{
 "cells": [
  {
   "cell_type": "markdown",
   "id": "a4e78ff5",
   "metadata": {},
   "source": [
    "# How to Load, Validate, Update, and Query 223P models\n",
    "\n",
    "The purpose of this tutorial is to show a basic workflow for using 223P models. This workflow may be accomplished using a variety of tools, but to demonstrate these basic processes, the open-source python libraries RDFLib and PySHACL are used. This workflow assumes that you have basic familiarity with RDF graphs and 223P. \n",
    "\n",
    "## Creating or Loading a 223P Model\n",
    "\n",
    "It is recommended that model developers use the (model building tools)[builder-tools] or potentially other existing (open-source or commercial products)[tools] to create 223P models. Creating a 223P model means representing the information present in a target buidling using 223P constructs. The result of each of these model building tools should be a 223P model in ttl or another format, that can be shared with other developers and used. \n",
    "\n",
    "For this tutorial an example equipment model for a Variable Air Volume Box is loaded into RDFLib (link G36 model) to show some of the key processes for using a 223P model. There are several key parts of creating a 223P model that are broken-down in this tutorial. For more on how to use RDFLib, please visit the RDFLib documentation. \n",
    "\n",
    "### Namespace definition \n",
    "\n",
    "Your model should be created with its own namespace. A namespace is a mechanism used to uniquely identify and distinguish terms, such as classes, properties, and individuals, within an RDF graph to avoid naming conflicts between terms from different sources.\n",
    "\n",
    "The namespaces for any other vocabolaries or ontologies (such as 223P, RDFS, or QUDT) should also be defined or brought into the script so that these vocabularies can be easily used. Some namespaces, such as RDF and RDFS, are already defined in RDFLib and can be imported."
   ]
  },
  {
   "cell_type": "code",
   "execution_count": 1,
   "id": "8b492a0c",
   "metadata": {},
   "outputs": [
    {
     "ename": "ModuleNotFoundError",
     "evalue": "No module named 'rdflib'",
     "output_type": "error",
     "traceback": [
      "\u001b[0;31m---------------------------------------------------------------------------\u001b[0m",
      "\u001b[0;31mModuleNotFoundError\u001b[0m                       Traceback (most recent call last)",
      "Cell \u001b[0;32mIn[1], line 1\u001b[0m\n\u001b[0;32m----> 1\u001b[0m \u001b[38;5;28;01mfrom\u001b[39;00m \u001b[38;5;21;01mrdflib\u001b[39;00m \u001b[38;5;28;01mimport\u001b[39;00m Graph\n\u001b[1;32m      2\u001b[0m \u001b[38;5;28;01mfrom\u001b[39;00m \u001b[38;5;21;01mrdflib\u001b[39;00m\u001b[38;5;21;01m.\u001b[39;00m\u001b[38;5;21;01mnamespace\u001b[39;00m \u001b[38;5;28;01mimport\u001b[39;00m RDF, RDFS, Namespace\n\u001b[1;32m      4\u001b[0m \u001b[38;5;66;03m# Define namespaces\u001b[39;00m\n",
      "\u001b[0;31mModuleNotFoundError\u001b[0m: No module named 'rdflib'"
     ]
    }
   ],
   "source": [
    "from rdflib import Graph\n",
    "from rdflib.namespace import RDF, RDFS, Namespace\n",
    "\n",
    "# Define namespaces\n",
    "EX = Namespace(\"urn:example/\")\n",
    "QUDT = Namespace(\"http://qudt.org/schema/qudt#\")\n",
    "S223 = Namespace('http://data.ashrae.org/standard223#')"
   ]
  },
  {
   "cell_type": "markdown",
   "id": "4900cbeb",
   "metadata": {},
   "source": [
    "### Creating a Graph and Loading the Model\n",
    "\n",
    "Now a graph can be created and the example model can be loaded. Multiple models can easily be loaded into the same graph. For example, this graph can be loaded with the 223P ontology to allow inferencing and validation. If separate building models were made by different stakeholders, they could also be easily loaded together. Once a model and the ontology are loaded into the graph, the model may be validated, queried, or updated."
   ]
  },
  {
   "cell_type": "code",
   "execution_count": null,
   "id": "8c091523",
   "metadata": {},
   "outputs": [],
   "source": [
    "# Create an RDF graph and load model\n",
    "g = Graph()\n",
    "g.parse('TODO Update Link', format = 'ttl')\n",
    "g.parse('TODO Update Link for ontology', format = 'ttl')"
   ]
  },
  {
   "cell_type": "markdown",
   "id": "99256d90",
   "metadata": {},
   "source": [
    "## Validating the Model \n",
    "\n",
    "\n",
    "Now that the graph and ontology is loaded you can validate ... \n",
    "\n",
    "\n",
    "Validation helps ensures that the model has been constructed correctly. For example, ConnectionPoints have a validation rule that checks that they have been connected. This validation is just a warning, and does not have to be corrected for this tutorial as we are using a model snippet of an isolated system...\n",
    "\n",
    "Inference also adds essential information such as the additional connection relationships shared between devices within the system... \n",
    "\n",
    "## Querying the Model\n",
    "\n",
    "Now that the model is loaded and validated, SPARQL queries can be used to identify data within the model. RDFLib has many other methods of managing models in addition to SPARQL, these are detailed in the RDFLib documentatino (link)\n",
    "\n",
    "## Updating the Model\n",
    "\n",
    "SPARQL can not only be used to query, but it can be used to update. Here is an example of a query that updates the model ..."
   ]
  }
 ],
 "metadata": {
  "jupytext": {
   "cell_metadata_filter": "-all",
   "formats": "md:myst",
   "text_representation": {
    "extension": ".md",
    "format_name": "myst"
   }
  },
  "kernelspec": {
   "display_name": "Python 3",
   "language": "python",
   "name": "python3"
  },
  "language_info": {
   "codemirror_mode": {
    "name": "ipython",
    "version": 3
   },
   "file_extension": ".py",
   "mimetype": "text/x-python",
   "name": "python",
   "nbconvert_exporter": "python",
   "pygments_lexer": "ipython3",
   "version": "3.11.7"
  },
  "source_map": [
   12,
   30,
   38,
   44,
   49
  ]
 },
 "nbformat": 4,
 "nbformat_minor": 5
}