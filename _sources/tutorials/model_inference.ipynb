{
 "cells": [
  {
   "cell_type": "markdown",
   "id": "66e6c621",
   "metadata": {},
   "source": [
    "# Model Inference\n",
    "\n",
    "```{note}\n",
    "The purpose of this tutorial is to show how SHACL inference applied to a 223 model can\n",
    "make models easier to write and query. Specifically, this tutorial will teach the following:\n",
    "1. How to load SHACL inference rules defined in the 223 ontology into memory\n",
    "2. How to apply SHACL inference rules to a 223 model to add all \"implied\" triples\n",
    "```\n",
    "\n",
    "For this tutorial, we'll use an existing equipment model of a variable air volume (VAV) terminal unit with cooling only from section 4.1 of ASHRAE Guideline 36-2021.\n",
    "This and other example models are available from [Open223 Models](open223-resources).\n",
    "\n",
    "## What are SHACL Rules?\n",
    "\n",
    "[SHACL rules](https://www.w3.org/TR/shacl-af/#rules) which add implied information to graphs if certain conditions are met, i.e. if certain triples exist in the source graph.\n",
    "The process of applying rules to an input model to generate new information (triples) is called *inference*.\n",
    "Inference makes models easier to write because the model author does not have to manually include all the triples necessary to support the desired queries;\n",
    "instead, some of those useful triples can be added \"automatically\" to the model through the use of inferencing.\n",
    "One way to think of inference is a way of normalizing a 223 model.\n",
    "Inference assures that the expected properties, types, and other annotations are present so that consumers of the model can make more assumptions about what information will be contained within the graph.\n",
    "\n",
    "## Model Parsing\n",
    "\n",
    "First, we'll create a new empty graph then parse (load) an existing graph into it using the Python RDFLib library."
   ]
  },
  {
   "cell_type": "code",
   "execution_count": 1,
   "id": "2505db02",
   "metadata": {},
   "outputs": [
    {
     "name": "stdout",
     "output_type": "stream",
     "text": [
      "The model contains 54 triples\n"
     ]
    }
   ],
   "source": [
    "from rdflib import Graph\n",
    "# Create a Graph\n",
    "model = Graph()\n",
    "# Parse in an RDF file hosted on the Internet\n",
    "model.parse(\"https://models.open223.info/guideline36-2021-4-1.ttl\", format=\"ttl\")\n",
    "print(f\"The model contains {len(model)} triples\")"
   ]
  },
  {
   "cell_type": "markdown",
   "id": "e4fb36cc",
   "metadata": {},
   "source": [
    "<details>\n",
    "<summary>Turtle representation of the model (pre-inference)</summary>"
   ]
  },
  {
   "cell_type": "code",
   "execution_count": 2,
   "id": "8fa192ee",
   "metadata": {},
   "outputs": [
    {
     "name": "stdout",
     "output_type": "stream",
     "text": [
      "@prefix bldg: <urn:ex/> .\n",
      "@prefix owl: <http://www.w3.org/2002/07/owl#> .\n",
      "@prefix qudt: <http://qudt.org/schema/qudt/> .\n",
      "@prefix qudtqk: <http://qudt.org/vocab/quantitykind/> .\n",
      "@prefix s223: <http://data.ashrae.org/standard223#> .\n",
      "@prefix unit: <http://qudt.org/vocab/unit/> .\n",
      "\n",
      "bldg: a owl:Ontology .\n",
      "\n",
      "bldg:damper-actuator a s223:Actuator ;\n",
      "    s223:actuates bldg:damper ;\n",
      "    s223:commandedByProperty bldg:damper-command .\n",
      "\n",
      "bldg:discharge-air-flow-sensor a s223:Sensor ;\n",
      "    s223:hasObservationLocation bldg:out ;\n",
      "    s223:observes bldg:discharge-air-flow .\n",
      "\n",
      "bldg:vav-cooling-only a s223:SingleDuctTerminal,\n",
      "        <http://data.ashrae.org/standard223/1.0/extensions/g36#VAV> ;\n",
      "    s223:cnx bldg:in,\n",
      "        bldg:out ;\n",
      "    s223:contains bldg:damper .\n",
      "\n",
      "bldg:damper-in a s223:InletConnectionPoint ;\n",
      "    s223:cnx bldg:duct-before-damper ;\n",
      "    s223:hasMedium s223:Medium-Air ;\n",
      "    s223:mapsTo bldg:in .\n",
      "\n",
      "bldg:damper-out a s223:OutletConnectionPoint ;\n",
      "    s223:cnx bldg:duct-after-damper ;\n",
      "    s223:hasMedium s223:Medium-Air ;\n",
      "    s223:mapsTo bldg:out .\n",
      "\n",
      "bldg:damper-position a s223:QuantifiableObservableProperty ;\n",
      "    qudt:hasQuantityKind qudtqk:DimensionlessRatio ;\n",
      "    qudt:hasUnit unit:PERCENT .\n",
      "\n",
      "bldg:duct-after-damper a s223:Connection,\n",
      "        s223:Duct ;\n",
      "    s223:hasMedium s223:Medium-Air .\n",
      "\n",
      "bldg:duct-before-damper a s223:Connection,\n",
      "        s223:Duct ;\n",
      "    s223:hasMedium s223:Medium-Air .\n",
      "\n",
      "bldg:in-connection a s223:Connection ;\n",
      "    s223:hasMedium s223:Medium-Air .\n",
      "\n",
      "bldg:out-connection a s223:Connection ;\n",
      "    s223:hasMedium s223:Medium-Air .\n",
      "\n",
      "bldg:damper a s223:Damper,\n",
      "        <http://data.ashrae.org/standard223/1.0/extensions/g36#Damper> ;\n",
      "    s223:cnx bldg:damper-in,\n",
      "        bldg:damper-out ;\n",
      "    s223:hasProperty bldg:damper-command,\n",
      "        bldg:damper-position .\n",
      "\n",
      "bldg:damper-command a s223:QuantifiableActuatableProperty ;\n",
      "    s223:hasAspect s223:EnumerationKind-Position ;\n",
      "    qudt:hasQuantityKind qudtqk:DimensionlessRatio ;\n",
      "    qudt:hasUnit unit:PERCENT .\n",
      "\n",
      "bldg:discharge-air-flow a s223:QuantifiableObservableProperty ;\n",
      "    s223:hasAspect s223:Role-Discharge ;\n",
      "    qudt:hasQuantityKind qudtqk:VolumeFlowRate ;\n",
      "    qudt:hasUnit unit:FT3-PER-MIN .\n",
      "\n",
      "bldg:in a s223:InletConnectionPoint ;\n",
      "    s223:cnx bldg:in-connection ;\n",
      "    s223:hasMedium s223:Medium-Air .\n",
      "\n",
      "bldg:out a s223:OutletConnectionPoint ;\n",
      "    s223:cnx bldg:out-connection ;\n",
      "    s223:hasMedium s223:Medium-Air ;\n",
      "    s223:hasProperty bldg:discharge-air-flow .\n",
      "\n",
      "\n"
     ]
    }
   ],
   "source": [
    "print(model.serialize())"
   ]
  },
  {
   "cell_type": "markdown",
   "id": "fd85b0a4",
   "metadata": {},
   "source": [
    "</details>\n",
    "\n",
    "### Testing the Model (Failed Query)\n",
    "\n",
    "Below, we try to run a simple query on our model which asks what the damper in the terminal unit is connected to.\n",
    "The `s223:connected` relationship does not exist in the pre-inference model, so this query will not return results."
   ]
  },
  {
   "cell_type": "code",
   "execution_count": 3,
   "id": "ed1148cb",
   "metadata": {},
   "outputs": [],
   "source": [
    "parts_query = \"\"\"\n",
    "PREFIX bldg: <urn:ex/>\n",
    "PREFIX s223: <http://data.ashrae.org/standard223#>\n",
    "SELECT ?parts WHERE {\n",
    "    bldg:vav-cooling-only s223:contains ?damper .\n",
    "    ?damper s223:connected ?parts\n",
    "}\"\"\"\n",
    "\n",
    "for row in model.query(parts_query):\n",
    "    print('\\t'.join(row))"
   ]
  },
  {
   "cell_type": "markdown",
   "id": "10f2751b",
   "metadata": {},
   "source": [
    "## Loading the 223 Ontology\n",
    "\n",
    "The 223 ontology contains the rules we will use for inference.\n",
    "We will load the 223 ontology into a separate graph from the model.\n",
    "This is mostly for maintenance: it is easy enough to merge two graphs together into one, but it is much harder to factor them out again.\n",
    "By keeping the ontology graph separate from the model graph, we can more easily maintain and version those graphs individually."
   ]
  },
  {
   "cell_type": "code",
   "execution_count": 4,
   "id": "6292e078",
   "metadata": {},
   "outputs": [
    {
     "data": {
      "text/plain": [
       "<Graph identifier=Nf0a7882772ad4002868a1d04d2d1d330 (<class 'rdflib.graph.Graph'>)>"
      ]
     },
     "execution_count": 4,
     "metadata": {},
     "output_type": "execute_result"
    }
   ],
   "source": [
    "from rdflib import Graph\n",
    "# Create a Graph\n",
    "s223 = Graph()\n",
    "# Parse in a recent copy of the 223 ontology\n",
    "s223.parse(\"https://query.open223.info/ontologies/223p.ttl\")"
   ]
  },
  {
   "cell_type": "markdown",
   "id": "eff32282",
   "metadata": {},
   "source": [
    "## Applying Inference Rules\n",
    "\n",
    "To apply inference rules, we need an *inference engine*.\n",
    "This is a piece of software which knows how to properly interpret and apply the SHACL rules defined in an ontology.\n",
    "There are multiple closed-source and open-source implementations of SHACL available; some of these are listed on [this page](other-resources)\n",
    "Below, we will be using the open-source [PySHACL](https://github.com/RDFLib/pySHACL) library.\n",
    "\n",
    "We import the PySHACL library and then invoke the `validate` function on our model graph (*data graph* in PySHACL parlance)\n",
    "and our 223 graph (*shape graph* in PySHACL parlance)."
   ]
  },
  {
   "cell_type": "code",
   "execution_count": 5,
   "id": "44b76dba",
   "metadata": {},
   "outputs": [
    {
     "name": "stdout",
     "output_type": "stream",
     "text": [
      "The model now contains 105 triples\n"
     ]
    }
   ],
   "source": [
    "import pyshacl\n",
    "\n",
    "# skolemizing the s223 graph lets us remove blank nodes after inference\n",
    "skolemized_s223 = s223.skolemize()\n",
    "\n",
    "pyshacl.validate(model,\n",
    "    shacl_graph=skolemized_s223,     # pass in the 223 graph object here\n",
    "    ont_graph=skolemized_s223,       # pass in the 223 graph object here\n",
    "    allow_infos=True,     # don't fail if we get an INFO message\n",
    "    allow_warnings=True,  # don't fail if we get a WARNING message\n",
    "    abort_on_first=False, # allow errors to happen during execution\n",
    "    advanced=True,        # allow SHACL rules to execute\n",
    "    inplace=True          # update the 'model' object with the inferred triples\n",
    ")\n",
    "# remove the skolemized s223 graph from the model\n",
    "model -= skolemized_s223\n",
    "# de-skolemize the ret of the model\n",
    "model = model.de_skolemize()\n",
    "print(f\"The model now contains {len(model)} triples\")"
   ]
  },
  {
   "cell_type": "markdown",
   "id": "bdb54af6",
   "metadata": {},
   "source": [
    "This may take a few minutes to run, depending on the size of your model.\n",
    "If the PySHACL library is too slow, we recommend looking at alternate open-source implementations\n",
    "like [TopQuadrant's Java-based implementation](https://github.com/TopQuadrant/shacl).\n",
    "\n",
    "We can see from the print statement that several triples have been added to the model.\n",
    "\n",
    "```{note}\n",
    "The `pyshacl.validate` function actually returns a SHACL validation report which can be used to fix\n",
    "the model and make it compatible with the 223 ontology. See the [Model Validation](model_validation)\n",
    "tutorial for how to access and interpret this report.\n",
    "```\n",
    "\n",
    "<details>\n",
    "<summary>Turtle representation of the model (post-inference)</summary>"
   ]
  },
  {
   "cell_type": "code",
   "execution_count": 6,
   "id": "2b0e2b91",
   "metadata": {},
   "outputs": [
    {
     "name": "stdout",
     "output_type": "stream",
     "text": [
      "@prefix ns1: <http://data.ashrae.org/standard223#> .\n",
      "@prefix ns2: <http://qudt.org/schema/qudt/> .\n",
      "@prefix owl: <http://www.w3.org/2002/07/owl#> .\n",
      "\n",
      "<urn:ex/> a owl:Ontology .\n",
      "\n",
      "<urn:ex/damper-actuator> a ns1:Actuator ;\n",
      "    ns1:actuates <urn:ex/damper> ;\n",
      "    ns1:cnx _:n21402c4a057048659b4d410bb746d25fb599,\n",
      "        _:n21402c4a057048659b4d410bb746d25fb601 ;\n",
      "    ns1:commandedByProperty <urn:ex/damper-command> ;\n",
      "    ns1:connected _:n21402c4a057048659b4d410bb746d25fb589,\n",
      "        _:n21402c4a057048659b4d410bb746d25fb604 ;\n",
      "    ns1:connectedThrough _:n21402c4a057048659b4d410bb746d25fb591 ;\n",
      "    ns1:hasConnectionPoint _:n21402c4a057048659b4d410bb746d25fb595 ;\n",
      "    ns1:hasProperty _:n21402c4a057048659b4d410bb746d25fb220 .\n",
      "\n",
      "<urn:ex/discharge-air-flow-sensor> a ns1:Sensor ;\n",
      "    ns1:cnx _:n21402c4a057048659b4d410bb746d25fb599,\n",
      "        _:n21402c4a057048659b4d410bb746d25fb601 ;\n",
      "    ns1:connected _:n21402c4a057048659b4d410bb746d25fb589,\n",
      "        _:n21402c4a057048659b4d410bb746d25fb604 ;\n",
      "    ns1:connectedThrough _:n21402c4a057048659b4d410bb746d25fb591 ;\n",
      "    ns1:hasConnectionPoint _:n21402c4a057048659b4d410bb746d25fb595 ;\n",
      "    ns1:hasObservationLocation <urn:ex/out> ;\n",
      "    ns1:hasProperty _:n21402c4a057048659b4d410bb746d25fb220 ;\n",
      "    ns1:observes <urn:ex/discharge-air-flow> .\n",
      "\n",
      "<urn:ex/vav-cooling-only> a ns1:SingleDuctTerminal,\n",
      "        <http://data.ashrae.org/standard223/1.0/extensions/g36#VAV> ;\n",
      "    ns1:cnx _:n21402c4a057048659b4d410bb746d25fb599,\n",
      "        _:n21402c4a057048659b4d410bb746d25fb601,\n",
      "        <urn:ex/in>,\n",
      "        <urn:ex/out> ;\n",
      "    ns1:connected _:n21402c4a057048659b4d410bb746d25fb589,\n",
      "        _:n21402c4a057048659b4d410bb746d25fb604 ;\n",
      "    ns1:connectedThrough _:n21402c4a057048659b4d410bb746d25fb591 ;\n",
      "    ns1:contains <urn:ex/damper> ;\n",
      "    ns1:hasConnectionPoint _:n21402c4a057048659b4d410bb746d25fb595 ;\n",
      "    ns1:hasProperty _:n21402c4a057048659b4d410bb746d25fb220 .\n",
      "\n",
      "<urn:ex/damper-in> a ns1:InletConnectionPoint ;\n",
      "    ns1:cnx <urn:ex/duct-before-damper> ;\n",
      "    ns1:hasMedium ns1:Medium-Air ;\n",
      "    ns1:hasProperty _:n21402c4a057048659b4d410bb746d25fb220 ;\n",
      "    ns1:mapsTo <urn:ex/in> .\n",
      "\n",
      "<urn:ex/damper-out> a ns1:OutletConnectionPoint ;\n",
      "    ns1:cnx <urn:ex/duct-after-damper> ;\n",
      "    ns1:hasMedium ns1:Medium-Air ;\n",
      "    ns1:hasProperty _:n21402c4a057048659b4d410bb746d25fb220 ;\n",
      "    ns1:mapsTo <urn:ex/out> .\n",
      "\n",
      "<urn:ex/damper-position> a ns1:QuantifiableObservableProperty ;\n",
      "    ns1:hasProperty _:n21402c4a057048659b4d410bb746d25fb220 ;\n",
      "    ns2:hasQuantityKind <http://qudt.org/vocab/quantitykind/DimensionlessRatio> ;\n",
      "    ns2:hasUnit <http://qudt.org/vocab/unit/PERCENT> .\n",
      "\n",
      "<urn:ex/duct-after-damper> a ns1:Connection,\n",
      "        ns1:Duct ;\n",
      "    ns1:cnx _:n21402c4a057048659b4d410bb746d25fb561,\n",
      "        _:n21402c4a057048659b4d410bb746d25fb563 ;\n",
      "    ns1:connectsAt _:n21402c4a057048659b4d410bb746d25fb566 ;\n",
      "    ns1:hasMedium ns1:Medium-Air ;\n",
      "    ns1:hasProperty _:n21402c4a057048659b4d410bb746d25fb220 .\n",
      "\n",
      "<urn:ex/duct-before-damper> a ns1:Connection,\n",
      "        ns1:Duct ;\n",
      "    ns1:cnx _:n21402c4a057048659b4d410bb746d25fb561,\n",
      "        _:n21402c4a057048659b4d410bb746d25fb563 ;\n",
      "    ns1:connectsAt _:n21402c4a057048659b4d410bb746d25fb566 ;\n",
      "    ns1:hasMedium ns1:Medium-Air ;\n",
      "    ns1:hasProperty _:n21402c4a057048659b4d410bb746d25fb220 .\n",
      "\n",
      "<urn:ex/in-connection> a ns1:Connection ;\n",
      "    ns1:cnx _:n21402c4a057048659b4d410bb746d25fb561,\n",
      "        _:n21402c4a057048659b4d410bb746d25fb563 ;\n",
      "    ns1:connectsAt _:n21402c4a057048659b4d410bb746d25fb566 ;\n",
      "    ns1:hasMedium ns1:Medium-Air ;\n",
      "    ns1:hasProperty _:n21402c4a057048659b4d410bb746d25fb220 .\n",
      "\n",
      "<urn:ex/out-connection> a ns1:Connection ;\n",
      "    ns1:cnx _:n21402c4a057048659b4d410bb746d25fb561,\n",
      "        _:n21402c4a057048659b4d410bb746d25fb563 ;\n",
      "    ns1:connectsAt _:n21402c4a057048659b4d410bb746d25fb566 ;\n",
      "    ns1:hasMedium ns1:Medium-Air ;\n",
      "    ns1:hasProperty _:n21402c4a057048659b4d410bb746d25fb220 .\n",
      "\n",
      "<urn:ex/damper> a ns1:Damper,\n",
      "        <http://data.ashrae.org/standard223/1.0/extensions/g36#Damper> ;\n",
      "    ns1:cnx _:n21402c4a057048659b4d410bb746d25fb599,\n",
      "        _:n21402c4a057048659b4d410bb746d25fb601,\n",
      "        <urn:ex/damper-in>,\n",
      "        <urn:ex/damper-out> ;\n",
      "    ns1:connected _:n21402c4a057048659b4d410bb746d25fb589,\n",
      "        _:n21402c4a057048659b4d410bb746d25fb604 ;\n",
      "    ns1:connectedThrough _:n21402c4a057048659b4d410bb746d25fb591 ;\n",
      "    ns1:hasConnectionPoint _:n21402c4a057048659b4d410bb746d25fb595 ;\n",
      "    ns1:hasProperty _:n21402c4a057048659b4d410bb746d25fb220,\n",
      "        <urn:ex/damper-command>,\n",
      "        <urn:ex/damper-position> .\n",
      "\n",
      "<urn:ex/damper-command> a ns1:QuantifiableActuatableProperty ;\n",
      "    ns1:hasAspect ns1:EnumerationKind-Position ;\n",
      "    ns1:hasProperty _:n21402c4a057048659b4d410bb746d25fb220 ;\n",
      "    ns2:hasQuantityKind <http://qudt.org/vocab/quantitykind/DimensionlessRatio> ;\n",
      "    ns2:hasUnit <http://qudt.org/vocab/unit/PERCENT> .\n",
      "\n",
      "<urn:ex/discharge-air-flow> a ns1:QuantifiableObservableProperty ;\n",
      "    ns1:hasAspect ns1:Role-Discharge ;\n",
      "    ns1:hasProperty _:n21402c4a057048659b4d410bb746d25fb220 ;\n",
      "    ns2:hasQuantityKind <http://qudt.org/vocab/quantitykind/VolumeFlowRate> ;\n",
      "    ns2:hasUnit <http://qudt.org/vocab/unit/FT3-PER-MIN> .\n",
      "\n",
      "<urn:ex/in> a ns1:InletConnectionPoint ;\n",
      "    ns1:cnx <urn:ex/in-connection> ;\n",
      "    ns1:hasMedium ns1:Medium-Air ;\n",
      "    ns1:hasProperty _:n21402c4a057048659b4d410bb746d25fb220 .\n",
      "\n",
      "<urn:ex/out> a ns1:OutletConnectionPoint ;\n",
      "    ns1:cnx <urn:ex/out-connection> ;\n",
      "    ns1:hasMedium ns1:Medium-Air ;\n",
      "    ns1:hasProperty _:n21402c4a057048659b4d410bb746d25fb220,\n",
      "        <urn:ex/discharge-air-flow> .\n",
      "\n",
      "\n"
     ]
    }
   ],
   "source": [
    "print(model.serialize())"
   ]
  },
  {
   "cell_type": "markdown",
   "id": "31e2c195",
   "metadata": {},
   "source": [
    "</details>\n",
    "\n",
    "## Using the New Model\n",
    "\n",
    "To demonstrate that the model contains new triples, we can try re-running the query from before.\n",
    "We can see that the query returns results this time."
   ]
  },
  {
   "cell_type": "code",
   "execution_count": 7,
   "id": "d5951f31",
   "metadata": {},
   "outputs": [
    {
     "name": "stdout",
     "output_type": "stream",
     "text": [
      "urn:ex/damper connected to n21402c4a057048659b4d410bb746d25fb589\n",
      "urn:ex/damper connected to n21402c4a057048659b4d410bb746d25fb604\n"
     ]
    }
   ],
   "source": [
    "query = \"\"\"\n",
    "PREFIX bldg: <urn:ex/>\n",
    "PREFIX s223: <http://data.ashrae.org/standard223#>\n",
    "SELECT ?damper ?part WHERE {\n",
    "    bldg:vav-cooling-only s223:contains ?damper .\n",
    "    ?damper s223:connected ?part\n",
    "}\"\"\"\n",
    "\n",
    "for row in model.query(query):\n",
    "    print(f\"{row.get('damper')} connected to {row.get('part')}\")"
   ]
  }
 ],
 "metadata": {
  "jupytext": {
   "cell_metadata_filter": "-all",
   "formats": "md:myst",
   "text_representation": {
    "extension": ".md",
    "format_name": "myst"
   }
  },
  "kernelspec": {
   "display_name": "Python 3",
   "language": "python",
   "name": "python3"
  },
  "language_info": {
   "codemirror_mode": {
    "name": "ipython",
    "version": 3
   },
   "file_extension": ".py",
   "mimetype": "text/x-python",
   "name": "python",
   "nbconvert_exporter": "python",
   "pygments_lexer": "ipython3",
   "version": "3.11.7"
  },
  "source_map": [
   12,
   39,
   46,
   51,
   53,
   62,
   73,
   82,
   88,
   100,
   120,
   137,
   139,
   148
  ]
 },
 "nbformat": 4,
 "nbformat_minor": 5
}