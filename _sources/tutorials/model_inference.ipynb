{
 "cells": [
  {
   "cell_type": "markdown",
   "id": "6d04f73d",
   "metadata": {},
   "source": [
    "# Model Inference\n",
    "\n",
    "```{note}\n",
    "The purpose of this tutorial is to show how SHACL inference applied to a 223 model can\n",
    "make models easier to write and query. Specifically, this tutorial will teach the following:\n",
    "1. How to load SHACL inference rules defined in the 223 ontology into memory\n",
    "2. How to apply SHACL inference rules to a 223 model to add all \"implied\" triples\n",
    "```\n",
    "\n",
    "For this tutorial, we'll use an existing equipment model of a variable air volume (VAV) terminal unit with cooling only from section 4.1 of ASHRAE Guideline 36-2021.\n",
    "This and other example models are available from [Open223 Models](open223-resources).\n",
    "\n",
    "## What are SHACL Rules?\n",
    "\n",
    "[SHACL rules](https://www.w3.org/TR/shacl-af/#rules) which add implied information to graphs if certain conditions are met, i.e. if certain triples exist in the source graph.\n",
    "The process of applying rules to an input model to generate new information (triples) is called *inference*.\n",
    "Inference makes models easier to write because the model author does not have to manually include all the triples necessary to support the desired queries;\n",
    "instead, some of those useful triples can be added \"automatically\" to the model through the use of inferencing.\n",
    "One way to think of inference is a way of normalizing a 223 model.\n",
    "Inference assures that the expected properties, types, and other annotations are present so that consumers of the model can make more assumptions about what information will be contained within the graph.\n",
    "\n",
    "## Model Parsing\n",
    "\n",
    "First, we'll create a new empty graph then parse (load) an existing graph into it using the Python RDFLib library."
   ]
  },
  {
   "cell_type": "code",
   "execution_count": 1,
   "id": "c2528356",
   "metadata": {},
   "outputs": [
    {
     "name": "stdout",
     "output_type": "stream",
     "text": [
      "The model contains 54 triples\n"
     ]
    }
   ],
   "source": [
    "from rdflib import Graph\n",
    "# Create a Graph\n",
    "model = Graph()\n",
    "# Parse in an RDF file hosted on the Internet\n",
    "model.parse(\"https://models.open223.info/guideline36-2021-4-1.ttl\", format=\"ttl\")\n",
    "print(f\"The model contains {len(model)} triples\")"
   ]
  },
  {
   "cell_type": "markdown",
   "id": "1f439c9d",
   "metadata": {},
   "source": [
    "## Loading the 223 Ontology\n",
    "\n",
    "The 223 ontology contains the rules we will use for inference.\n",
    "We will load the 223 ontology into a separate graph from the model.\n",
    "This is mostly for maintenance: it is easy enough to merge two graphs together into one, but it is much harder to factor them out again.\n",
    "By keeping the ontology graph separate from the model graph, we can more easily maintain and version those graphs individually."
   ]
  },
  {
   "cell_type": "code",
   "execution_count": 2,
   "id": "5a8e7477",
   "metadata": {},
   "outputs": [
    {
     "data": {
      "text/plain": [
       "<Graph identifier=Nbd433e44595047179d8ab613eaa129f5 (<class 'rdflib.graph.Graph'>)>"
      ]
     },
     "execution_count": 2,
     "metadata": {},
     "output_type": "execute_result"
    }
   ],
   "source": [
    "from rdflib import Graph\n",
    "# Create a Graph\n",
    "s223 = Graph()\n",
    "# Parse in a recent copy of the 223 ontology\n",
    "s223.parse(\"https://query.open223.info/ontologies/223p.ttl\")"
   ]
  },
  {
   "cell_type": "markdown",
   "id": "8447cfd8",
   "metadata": {},
   "source": [
    "## Applying Inference Rules\n",
    "\n",
    "To apply inference rules, we need an *inference engine*.\n",
    "This is a piece of software which knows how to properly interpret and apply the SHACL rules defined in an ontology.\n",
    "There are multiple closed-source and open-source implementations of SHACL available; some of these are listed on [this page](other-resources)\n",
    "Below, we will be using the open-source [PySHACL](https://github.com/RDFLib/pySHACL) library.\n",
    "\n",
    "We import the PySHACL library and then invoke the `validate` function on our model graph (*data graph* in PySHACL parlance)\n",
    "and our 223 graph (*shape graph* in PySHACL parlance)."
   ]
  },
  {
   "cell_type": "code",
   "execution_count": 3,
   "id": "04a73181",
   "metadata": {},
   "outputs": [
    {
     "name": "stdout",
     "output_type": "stream",
     "text": [
      "The model now contains 3770 triples\n"
     ]
    }
   ],
   "source": [
    "import pyshacl\n",
    "\n",
    "pyshacl.validate(model,\n",
    "    shacl_graph=s223,     # pass in the 223 graph object here\n",
    "    ont_graph=s223,       # pass in the 223 graph object here\n",
    "    allow_infos=True,     # don't fail if we get an INFO message\n",
    "    allow_warnings=True,  # don't fail if we get a WARNING message\n",
    "    abort_on_first=False, # allow errors to happen during execution\n",
    "    advanced=True,        # allow SHACL rules to execute\n",
    "    inplace=True          # update the 'model' object with the inferred triples\n",
    ")\n",
    "print(f\"The model now contains {len(model)} triples\")"
   ]
  },
  {
   "cell_type": "markdown",
   "id": "e7d7aa31",
   "metadata": {},
   "source": [
    "This may take a few minutes to run, depending on the size of your model.\n",
    "If the PySHACL library is too slow, we recommend looking at alternate open-source implementations\n",
    "like [TopQuadrant's Java-based implementation](https://github.com/TopQuadrant/shacl).\n",
    "\n",
    "\n",
    "```{note}\n",
    "The `pyshacl.validate` function returns a SHACL validation report which can be used to fix\n",
    "the model and make it compatible with the 223 ontology. See the [Model Validation[(model_validation)\n",
    "tutorial for how to access and interpret this report.\n",
    "```\n",
    "\n",
    "## Using the New Model"
   ]
  }
 ],
 "metadata": {
  "jupytext": {
   "cell_metadata_filter": "-all",
   "formats": "md:myst",
   "text_representation": {
    "extension": ".md",
    "format_name": "myst"
   }
  },
  "kernelspec": {
   "display_name": "Python 3",
   "language": "python",
   "name": "python3"
  },
  "language_info": {
   "codemirror_mode": {
    "name": "ipython",
    "version": 3
   },
   "file_extension": ".py",
   "mimetype": "text/x-python",
   "name": "python",
   "nbconvert_exporter": "python",
   "pygments_lexer": "ipython3",
   "version": "3.11.7"
  },
  "source_map": [
   12,
   39,
   46,
   55,
   61,
   73,
   86
  ]
 },
 "nbformat": 4,
 "nbformat_minor": 5
}