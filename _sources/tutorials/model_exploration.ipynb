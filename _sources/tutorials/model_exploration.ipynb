{
 "cells": [
  {
   "cell_type": "markdown",
   "id": "c3959da9",
   "metadata": {},
   "source": [
    "# Model Exploration\n",
    "\n",
    "```{note}\n",
    "The purpose of this tutorial is to explore a model by learning the following:\n",
    "1. Parsing (loading) an existing model\n",
    "2. Querying an existing model.\n",
    "```\n",
    "\n",
    "For this tutorial, we'll use an existing equipment model of a variable air volume (VAV) terminal unit with cooling only from section 4.1 of ASHRAE Guideline 36-2021. This and other example models are available from [Open223 Models](open223-resources).\n",
    "\n",
    "## Model Parsing\n",
    "\n",
    "First, we'll create a new empty graph then parse (load) an existing graph into it using the Python RDFLib library."
   ]
  },
  {
   "cell_type": "code",
   "execution_count": 1,
   "id": "1c54d703",
   "metadata": {},
   "outputs": [
    {
     "data": {
      "text/plain": [
       "<Graph identifier=N01501b21c61d410682401c192fe3bf31 (<class 'rdflib.graph.Graph'>)>"
      ]
     },
     "execution_count": 1,
     "metadata": {},
     "output_type": "execute_result"
    }
   ],
   "source": [
    "from rdflib import Graph\n",
    "\n",
    "# Create a Graph\n",
    "g = Graph()\n",
    "\n",
    "# Parse in an RDF file hosted on the Internet\n",
    "g.parse(\"https://raw.githubusercontent.com/open223/models.open223.info/main/models/guideline36-2021-4-1.ttl\", format=\"ttl\")"
   ]
  },
  {
   "cell_type": "markdown",
   "id": "7c786e79",
   "metadata": {},
   "source": [
    "Next, we'll explore the model's size by printing the number of triples in it."
   ]
  },
  {
   "cell_type": "code",
   "execution_count": 2,
   "id": "62675530",
   "metadata": {},
   "outputs": [
    {
     "name": "stdout",
     "output_type": "stream",
     "text": [
      "Graph g has 54 statements.\n"
     ]
    }
   ],
   "source": [
    "# Print the number of \"triples\" in the Graph\n",
    "print(f\"Graph g has {len(g)} statements.\")"
   ]
  },
  {
   "cell_type": "markdown",
   "id": "fab312e4",
   "metadata": {},
   "source": [
    "Finally, we'll print the contents of the model since it's not that large."
   ]
  },
  {
   "cell_type": "code",
   "execution_count": 3,
   "id": "b9825aa0",
   "metadata": {},
   "outputs": [
    {
     "name": "stdout",
     "output_type": "stream",
     "text": [
      "@prefix bldg: <urn:ex/> .\n",
      "@prefix owl: <http://www.w3.org/2002/07/owl#> .\n",
      "@prefix qudt: <http://qudt.org/schema/qudt/> .\n",
      "@prefix qudtqk: <http://qudt.org/vocab/quantitykind/> .\n",
      "@prefix s223: <http://data.ashrae.org/standard223#> .\n",
      "@prefix unit: <http://qudt.org/vocab/unit/> .\n",
      "\n",
      "bldg: a owl:Ontology .\n",
      "\n",
      "bldg:damper-actuator a s223:Actuator ;\n",
      "    s223:actuates bldg:damper ;\n",
      "    s223:commandedByProperty bldg:damper-command .\n",
      "\n",
      "bldg:discharge-air-flow-sensor a s223:Sensor ;\n",
      "    s223:hasObservationLocation bldg:out ;\n",
      "    s223:observes bldg:discharge-air-flow .\n",
      "\n",
      "bldg:vav-cooling-only a s223:SingleDuctTerminal,\n",
      "        <http://data.ashrae.org/standard223/1.0/extensions/g36#VAV> ;\n",
      "    s223:cnx bldg:in,\n",
      "        bldg:out ;\n",
      "    s223:contains bldg:damper .\n",
      "\n",
      "bldg:damper-in a s223:InletConnectionPoint ;\n",
      "    s223:cnx bldg:duct-before-damper ;\n",
      "    s223:hasMedium s223:Medium-Air ;\n",
      "    s223:mapsTo bldg:in .\n",
      "\n",
      "bldg:damper-out a s223:OutletConnectionPoint ;\n",
      "    s223:cnx bldg:duct-after-damper ;\n",
      "    s223:hasMedium s223:Medium-Air ;\n",
      "    s223:mapsTo bldg:out .\n",
      "\n",
      "bldg:damper-position a s223:QuantifiableObservableProperty ;\n",
      "    qudt:hasQuantityKind qudtqk:DimensionlessRatio ;\n",
      "    qudt:hasUnit unit:PERCENT .\n",
      "\n",
      "bldg:duct-after-damper a s223:Connection,\n",
      "        s223:Duct ;\n",
      "    s223:hasMedium s223:Medium-Air .\n",
      "\n",
      "bldg:duct-before-damper a s223:Connection,\n",
      "        s223:Duct ;\n",
      "    s223:hasMedium s223:Medium-Air .\n",
      "\n",
      "bldg:in-connection a s223:Connection ;\n",
      "    s223:hasMedium s223:Medium-Air .\n",
      "\n",
      "bldg:out-connection a s223:Connection ;\n",
      "    s223:hasMedium s223:Medium-Air .\n",
      "\n",
      "bldg:damper a s223:Damper,\n",
      "        <http://data.ashrae.org/standard223/1.0/extensions/g36#Damper> ;\n",
      "    s223:cnx bldg:damper-in,\n",
      "        bldg:damper-out ;\n",
      "    s223:hasProperty bldg:damper-command,\n",
      "        bldg:damper-position .\n",
      "\n",
      "bldg:damper-command a s223:QuantifiableActuatableProperty ;\n",
      "    s223:hasAspect s223:EnumerationKind-Position ;\n",
      "    qudt:hasQuantityKind qudtqk:DimensionlessRatio ;\n",
      "    qudt:hasUnit unit:PERCENT .\n",
      "\n",
      "bldg:discharge-air-flow a s223:QuantifiableObservableProperty ;\n",
      "    s223:hasAspect s223:Role-Discharge ;\n",
      "    qudt:hasQuantityKind qudtqk:VolumeFlowRate ;\n",
      "    qudt:hasUnit unit:FT3-PER-MIN .\n",
      "\n",
      "bldg:in a s223:InletConnectionPoint ;\n",
      "    s223:cnx bldg:in-connection ;\n",
      "    s223:hasMedium s223:Medium-Air .\n",
      "\n",
      "bldg:out a s223:OutletConnectionPoint ;\n",
      "    s223:cnx bldg:out-connection ;\n",
      "    s223:hasMedium s223:Medium-Air ;\n",
      "    s223:hasProperty bldg:discharge-air-flow .\n",
      "\n",
      "\n"
     ]
    }
   ],
   "source": [
    "# Print out the entire Graph in the RDF Turtle format\n",
    "print(g.serialize(format=\"turtle\"))"
   ]
  },
  {
   "cell_type": "markdown",
   "id": "9c51bae7",
   "metadata": {},
   "source": [
    "## Model Querying\n",
    "\n",
    "After exploring the model to get a sense for what it contains, let's query the model for all the VAV terminal's points, which are instances of the following classes:\n",
    "\n",
    "[Open223 Explore links](open223-resources):\n",
    "- [QuantifiableActuatableProperty](https://explore.open223.info/s223/QuantifiableActuatableProperty.html)\n",
    "- [QuantifiableObservableProperty](https://explore.open223.info/s223/QuantifiableObservableProperty.html)"
   ]
  },
  {
   "cell_type": "code",
   "execution_count": 4,
   "id": "0f440312",
   "metadata": {},
   "outputs": [
    {
     "name": "stdout",
     "output_type": "stream",
     "text": [
      "(rdflib.term.URIRef('urn:ex/damper-command'),)\n",
      "(rdflib.term.URIRef('urn:ex/damper-position'),)\n",
      "(rdflib.term.URIRef('urn:ex/discharge-air-flow'),)\n"
     ]
    }
   ],
   "source": [
    "# Query the data in g using SPARQL\n",
    "q = \"\"\"\n",
    "PREFIX s223: <http://data.ashrae.org/standard223#>\n",
    "\n",
    "SELECT ?obj WHERE {\n",
    "  { ?obj a s223:QuantifiableActuatableProperty . }\n",
    "  \tUNION\n",
    "  { ?obj a s223:QuantifiableObservableProperty . }\n",
    "}\n",
    "\"\"\"\n",
    "\n",
    "# Apply the query to the graph and iterate through results\n",
    "for r in g.query(q):\n",
    "    print(r)"
   ]
  }
 ],
 "metadata": {
  "jupytext": {
   "cell_metadata_filter": "-all",
   "formats": "md:myst",
   "text_representation": {
    "extension": ".md",
    "format_name": "myst"
   }
  },
  "kernelspec": {
   "display_name": "Python 3",
   "language": "python",
   "name": "python3"
  },
  "language_info": {
   "codemirror_mode": {
    "name": "ipython",
    "version": 3
   },
   "file_extension": ".py",
   "mimetype": "text/x-python",
   "name": "python",
   "nbconvert_exporter": "python",
   "pygments_lexer": "ipython3",
   "version": "3.11.7"
  },
  "source_map": [
   12,
   28,
   36,
   40,
   43,
   47,
   50,
   60
  ]
 },
 "nbformat": 4,
 "nbformat_minor": 5
}